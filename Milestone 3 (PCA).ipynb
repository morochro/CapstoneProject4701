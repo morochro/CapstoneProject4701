{
 "cells": [
  {
   "cell_type": "code",
   "execution_count": 1,
   "id": "316dca6b-4691-418a-985d-ed7899372a36",
   "metadata": {},
   "outputs": [],
   "source": [
    "import pandas as pd\n",
    "from matplotlib import pyplot as plt\n",
    "import seaborn as sns\n",
    "import numpy as np"
   ]
  },
  {
   "cell_type": "markdown",
   "id": "25b3aca6-1633-4005-b4ba-885a41e894a4",
   "metadata": {},
   "source": [
    "## Preprocessed Dataset ##"
   ]
  },
  {
   "cell_type": "code",
   "execution_count": 3,
   "id": "2309691a-4a2c-4d83-acfd-6bad629562a5",
   "metadata": {},
   "outputs": [],
   "source": [
    "df = pd.read_csv(r\"C:\\Users\\roger\\Downloads\\Capstone1_cleaned_dataset.csv\")"
   ]
  },
  {
   "cell_type": "code",
   "execution_count": 4,
   "id": "6966e484-a974-41ce-9731-3dfd425e8293",
   "metadata": {},
   "outputs": [
    {
     "name": "stdout",
     "output_type": "stream",
     "text": [
      "Unnamed: 0                          0\n",
      "Age                                 0\n",
      "BMI                                 0\n",
      "Sex                                 0\n",
      "Height                              0\n",
      "Weight                              0\n",
      "Length_of_Stay                      0\n",
      "Alvarado_Score                      0\n",
      "Paedriatic_Appendicitis_Score       0\n",
      "Appendix_on_US                      0\n",
      "Appendix_Diameter                   0\n",
      "Migratory_Pain                      0\n",
      "Lower_Right_Abd_Pain                0\n",
      "Contralateral_Rebound_Tenderness    0\n",
      "Coughing_Pain                       0\n",
      "Nausea                              0\n",
      "Loss_of_Appetite                    0\n",
      "Body_Temperature                    0\n",
      "WBC_Count                           0\n",
      "Neutrophil_Percentage               0\n",
      "Segmented_Neutrophils               0\n",
      "Neutrophilia                        0\n",
      "RBC_Count                           0\n",
      "Hemoglobin                          0\n",
      "RDW                                 0\n",
      "Thrombocyte_Count                   0\n",
      "Ketones_in_Urine                    0\n",
      "RBC_in_Urine                        0\n",
      "WBC_in_Urine                        0\n",
      "CRP                                 0\n",
      "Dysuria                             0\n",
      "Stool                               0\n",
      "Peritonitis                         0\n",
      "Psoas_Sign                          0\n",
      "Ipsilateral_Rebound_Tenderness      0\n",
      "US_Performed                        0\n",
      "US_Number                           0\n",
      "Free_Fluids                         0\n",
      "Appendix_Wall_Layers                0\n",
      "Target_Sign                         0\n",
      "Appendicolith                       0\n",
      "Perfusion                           0\n",
      "Perforation                         0\n",
      "Surrounding_Tissue_Reaction         0\n",
      "Appendicular_Abscess                0\n",
      "Abscess_Location                    0\n",
      "Pathological_Lymph_Nodes            0\n",
      "Lymph_Nodes_Location                0\n",
      "Bowel_Wall_Thickening               0\n",
      "Conglomerate_of_Bowel_Loops         0\n",
      "Ileus                               0\n",
      "Coprostasis                         0\n",
      "Meteorism                           0\n",
      "Enteritis                           0\n",
      "Gynecological_Findings              0\n",
      "Management                          0\n",
      "Severity                            0\n",
      "Diagnosis                           0\n",
      "dtype: int64\n"
     ]
    }
   ],
   "source": [
    "print(df.isnull().sum())"
   ]
  },
  {
   "cell_type": "markdown",
   "id": "f6a9684c-c449-4e6e-bc6b-39e253cb4c15",
   "metadata": {},
   "source": [
    "## Renaming Target Column ##"
   ]
  },
  {
   "cell_type": "code",
   "execution_count": 6,
   "id": "7db8e58c-5505-414b-be33-0ff56e839b51",
   "metadata": {},
   "outputs": [
    {
     "name": "stdout",
     "output_type": "stream",
     "text": [
      "Unnamed: 0                            int64\n",
      "Age                                 float64\n",
      "BMI                                 float64\n",
      "Sex                                  object\n",
      "Height                              float64\n",
      "Weight                              float64\n",
      "Length_of_Stay                      float64\n",
      "Alvarado_Score                      float64\n",
      "Paedriatic_Appendicitis_Score       float64\n",
      "Appendix_on_US                       object\n",
      "Appendix_Diameter                   float64\n",
      "Migratory_Pain                       object\n",
      "Lower_Right_Abd_Pain                 object\n",
      "Contralateral_Rebound_Tenderness     object\n",
      "Coughing_Pain                        object\n",
      "Nausea                               object\n",
      "Loss_of_Appetite                     object\n",
      "Body_Temperature                    float64\n",
      "WBC_Count                           float64\n",
      "Neutrophil_Percentage               float64\n",
      "Segmented_Neutrophils               float64\n",
      "Neutrophilia                         object\n",
      "RBC_Count                           float64\n",
      "Hemoglobin                          float64\n",
      "RDW                                 float64\n",
      "Thrombocyte_Count                   float64\n",
      "Ketones_in_Urine                     object\n",
      "RBC_in_Urine                         object\n",
      "WBC_in_Urine                         object\n",
      "CRP                                 float64\n",
      "Dysuria                              object\n",
      "Stool                                object\n",
      "Peritonitis                          object\n",
      "Psoas_Sign                           object\n",
      "Ipsilateral_Rebound_Tenderness       object\n",
      "US_Performed                         object\n",
      "US_Number                           float64\n",
      "Free_Fluids                          object\n",
      "Appendix_Wall_Layers                 object\n",
      "Target_Sign                          object\n",
      "Appendicolith                        object\n",
      "Perfusion                            object\n",
      "Perforation                          object\n",
      "Surrounding_Tissue_Reaction          object\n",
      "Appendicular_Abscess                 object\n",
      "Abscess_Location                     object\n",
      "Pathological_Lymph_Nodes             object\n",
      "Lymph_Nodes_Location                 object\n",
      "Bowel_Wall_Thickening                object\n",
      "Conglomerate_of_Bowel_Loops          object\n",
      "Ileus                                object\n",
      "Coprostasis                          object\n",
      "Meteorism                            object\n",
      "Enteritis                            object\n",
      "Gynecological_Findings               object\n",
      "Management                           object\n",
      "Severity                             object\n",
      "Label                                object\n",
      "dtype: object\n"
     ]
    }
   ],
   "source": [
    "df = df.rename(columns={'Diagnosis':'Label'})\n",
    "print(df.dtypes)"
   ]
  },
  {
   "cell_type": "markdown",
   "id": "17d5a7a3-dc6d-479d-842f-a2235aabfddf",
   "metadata": {},
   "source": [
    "## Understanding Data ##"
   ]
  },
  {
   "cell_type": "code",
   "execution_count": 8,
   "id": "ef63c967-e3a1-498f-b272-7e3f9fc7db18",
   "metadata": {},
   "outputs": [
    {
     "data": {
      "text/plain": [
       "Label\n",
       "appendicitis       326\n",
       "no appendicitis    286\n",
       "Name: count, dtype: int64"
      ]
     },
     "execution_count": 8,
     "metadata": {},
     "output_type": "execute_result"
    },
    {
     "data": {
      "image/png": "[encoded data removed]",
      "text/plain": [
       "<Figure size 640x480 with 1 Axes>"
      ]
     },
     "metadata": {},
     "output_type": "display_data"
    }
   ],
   "source": [
    "sns.countplot(x=\"Label\", data=df) #M - malignant   B - benign\n",
    "df['Label'].value_counts()"
   ]
  },
  {
   "cell_type": "markdown",
   "id": "d22db600-5738-42fb-aff4-da1084675912",
   "metadata": {},
   "source": [
    "## Separating Label from Dataframe ##"
   ]
  },
  {
   "cell_type": "code",
   "execution_count": 10,
   "id": "577043ca-b4f7-491a-945e-5e1b01918514",
   "metadata": {},
   "outputs": [],
   "source": [
    "y = df[\"Label\"].values"
   ]
  },
  {
   "cell_type": "markdown",
   "id": "8776d4c8-585f-4a7f-a96f-cadf18eb0a1e",
   "metadata": {},
   "source": [
    "## Separating Independent Variable from Dataframe ##"
   ]
  },
  {
   "cell_type": "code",
   "execution_count": 12,
   "id": "32bfa071-8dd8-4fde-8530-d72b544b89bf",
   "metadata": {},
   "outputs": [],
   "source": [
    "X = df.drop(labels = [\"Label\"], axis=1)"
   ]
  },
  {
   "cell_type": "markdown",
   "id": "0fd13506-c6fb-478d-b196-352f9fd32894",
   "metadata": {},
   "source": [
    "## Encoding Categorical Data ##"
   ]
  },
  {
   "cell_type": "code",
   "execution_count": 14,
   "id": "457243d4-4ba6-471e-94e7-b21241abb184",
   "metadata": {},
   "outputs": [],
   "source": [
    "from sklearn.preprocessing import LabelEncoder\n",
    "labelencoder = LabelEncoder()\n",
    "Y = labelencoder.fit_transform(y) # M=1 and B=0"
   ]
  },
  {
   "cell_type": "markdown",
   "id": "f67b215e-3fd6-4fb5-bede-8a1c048f8c25",
   "metadata": {},
   "source": [
    "## Standardization ##"
   ]
  },
  {
   "cell_type": "code",
   "execution_count": 16,
   "id": "3ec82694-7342-4ed1-beaf-c6068ab96e65",
   "metadata": {},
   "outputs": [],
   "source": [
    "from sklearn.preprocessing import StandardScaler\n",
    "X_numerical = X.select_dtypes(include=['int64', 'float64'])\n",
    "scaler = StandardScaler()\n",
    "X_scaled = scaler.fit_transform(X_numerical)"
   ]
  },
  {
   "cell_type": "markdown",
   "id": "da6d9ea1-0f99-4156-8880-b44f0f472177",
   "metadata": {},
   "source": [
    "## Importing PCA ##"
   ]
  },
  {
   "cell_type": "code",
   "execution_count": 18,
   "id": "b45d322c-89e9-46e6-b827-4be4dac51f2b",
   "metadata": {},
   "outputs": [],
   "source": [
    "from sklearn.decomposition import PCA"
   ]
  },
  {
   "cell_type": "markdown",
   "id": "645f29c9-1e80-423a-87fc-3be54c48670a",
   "metadata": {},
   "source": [
    "## PCA Implementation ##"
   ]
  },
  {
   "cell_type": "code",
   "execution_count": 20,
   "id": "161ede06-011d-448f-a643-e447abe5a3d8",
   "metadata": {},
   "outputs": [
    {
     "data": {
      "image/png": "[encoded data removed]",
      "text/plain": [
       "<Figure size 640x480 with 1 Axes>"
      ]
     },
     "metadata": {},
     "output_type": "display_data"
    }
   ],
   "source": [
    "pca_test = PCA(n_components=19)\n",
    "pca_test.fit(X_scaled)\n",
    "\n",
    "# Step 4: Plot cumulative explained variance\n",
    "plt.plot(np.cumsum(pca_test.explained_variance_ratio_))\n",
    "plt.xlabel(\"Number of Components\")\n",
    "plt.ylabel(\"Cumulative Explained Variance\")\n",
    "plt.title(\"Explained Variance by PCA Components\")\n",
    "plt.grid(True)\n",
    "plt.show()"
   ]
  },
  {
   "cell_type": "code",
   "execution_count": 21,
   "id": "d286f6a9-bdca-42f4-8622-8048ef3caf1f",
   "metadata": {},
   "outputs": [
    {
     "data": {
      "text/html": [
       "<div>\n",
       "<style scoped>\n",
       "    .dataframe tbody tr th:only-of-type {\n",
       "        vertical-align: middle;\n",
       "    }\n",
       "\n",
       "    .dataframe tbody tr th {\n",
       "        vertical-align: top;\n",
       "    }\n",
       "\n",
       "    .dataframe thead th {\n",
       "        text-align: right;\n",
       "    }\n",
       "</style>\n",
       "<table border=\"1\" class=\"dataframe\">\n",
       "  <thead>\n",
       "    <tr style=\"text-align: right;\">\n",
       "      <th></th>\n",
       "      <th>PC1</th>\n",
       "      <th>PC2</th>\n",
       "      <th>PC3</th>\n",
       "      <th>PC4</th>\n",
       "      <th>PC5</th>\n",
       "    </tr>\n",
       "  </thead>\n",
       "  <tbody>\n",
       "    <tr>\n",
       "      <th>0</th>\n",
       "      <td>-1.806937</td>\n",
       "      <td>-1.427128</td>\n",
       "      <td>0.710998</td>\n",
       "      <td>1.443135</td>\n",
       "      <td>-0.131909</td>\n",
       "    </tr>\n",
       "    <tr>\n",
       "      <th>1</th>\n",
       "      <td>-1.789529</td>\n",
       "      <td>-0.131931</td>\n",
       "      <td>2.029503</td>\n",
       "      <td>-2.629167</td>\n",
       "      <td>1.061301</td>\n",
       "    </tr>\n",
       "    <tr>\n",
       "      <th>2</th>\n",
       "      <td>-2.055685</td>\n",
       "      <td>0.530215</td>\n",
       "      <td>2.417396</td>\n",
       "      <td>-0.310852</td>\n",
       "      <td>0.559640</td>\n",
       "    </tr>\n",
       "    <tr>\n",
       "      <th>3</th>\n",
       "      <td>-1.527673</td>\n",
       "      <td>-1.667340</td>\n",
       "      <td>1.486383</td>\n",
       "      <td>-0.800417</td>\n",
       "      <td>0.212806</td>\n",
       "    </tr>\n",
       "    <tr>\n",
       "      <th>4</th>\n",
       "      <td>-0.196938</td>\n",
       "      <td>-1.767022</td>\n",
       "      <td>1.837256</td>\n",
       "      <td>-0.124218</td>\n",
       "      <td>0.866452</td>\n",
       "    </tr>\n",
       "  </tbody>\n",
       "</table>\n",
       "</div>"
      ],
      "text/plain": [
       "        PC1       PC2       PC3       PC4       PC5\n",
       "0 -1.806937 -1.427128  0.710998  1.443135 -0.131909\n",
       "1 -1.789529 -0.131931  2.029503 -2.629167  1.061301\n",
       "2 -2.055685  0.530215  2.417396 -0.310852  0.559640\n",
       "3 -1.527673 -1.667340  1.486383 -0.800417  0.212806\n",
       "4 -0.196938 -1.767022  1.837256 -0.124218  0.866452"
      ]
     },
     "execution_count": 21,
     "metadata": {},
     "output_type": "execute_result"
    }
   ],
   "source": [
    "from sklearn.decomposition import PCA\n",
    "\n",
    "n_PCA_components = 5\n",
    "pca = PCA(n_components=n_PCA_components)\n",
    "\n",
    "# Use standardized numeric data only\n",
    "PrincipalComponents = pca.fit_transform(X_scaled)\n",
    "\n",
    "# Optionally convert to DataFrame\n",
    "PrincipalComponents_df = pd.DataFrame(PrincipalComponents, columns=[f'PC{i+1}' for i in range(n_PCA_components)])\n",
    "PrincipalComponents_df.head()"
   ]
  },
  {
   "cell_type": "code",
   "execution_count": 22,
   "id": "e97aa47b-f623-4df0-908b-1c2e03ff2636",
   "metadata": {},
   "outputs": [
    {
     "name": "stdout",
     "output_type": "stream",
     "text": [
      "          PC1       PC2       PC3       PC4       PC5\n",
      "0   -1.806937 -1.427128  0.710998  1.443135 -0.131909\n",
      "1   -1.789529 -0.131931  2.029503 -2.629167  1.061301\n",
      "2   -2.055685  0.530215  2.417396 -0.310852  0.559640\n",
      "3   -1.527673 -1.667340  1.486383 -0.800417  0.212806\n",
      "4   -0.196938 -1.767022  1.837256 -0.124218  0.866452\n",
      "..        ...       ...       ...       ...       ...\n",
      "607  0.550258  3.806861 -0.763510 -0.373286 -1.347693\n",
      "608  1.558381  3.321888 -1.498145 -2.186241 -0.135653\n",
      "609 -0.122079  0.735518 -1.794885 -1.132854  0.803048\n",
      "610  4.313021  1.066004 -1.424510  0.603357  1.349642\n",
      "611 -0.640861 -0.590908 -2.845654 -0.765959  0.645744\n",
      "\n",
      "[612 rows x 5 columns]\n"
     ]
    }
   ],
   "source": [
    "print(PrincipalComponents_df)"
   ]
  },
  {
   "cell_type": "code",
   "execution_count": 23,
   "id": "0cdd6c48-54a7-46fc-ae5c-ae580b80b24b",
   "metadata": {},
   "outputs": [
    {
     "name": "stdout",
     "output_type": "stream",
     "text": [
      "[0.22944882 0.14656656 0.09923019 0.07732949 0.06064866]\n"
     ]
    }
   ],
   "source": [
    "print(pca.explained_variance_ratio_)"
   ]
  },
  {
   "cell_type": "code",
   "execution_count": 24,
   "id": "89e42aa1-29da-437f-a08d-2cdbc8e514d8",
   "metadata": {},
   "outputs": [
    {
     "name": "stdout",
     "output_type": "stream",
     "text": [
      "DataFrame 'PrincipalComponents_df' has been saved to 'principal_components_result.xlsx'\n"
     ]
    }
   ],
   "source": [
    "PrincipalComponents_df.to_excel('principal_components_result.xlsx', index=False)\n",
    "\n",
    "print(\"DataFrame 'PrincipalComponents_df' has been saved to 'principal_components_result.xlsx'\")"
   ]
  },
  {
   "cell_type": "markdown",
   "id": "677226e6-69c1-4f25-b5f8-9ab8bd565444",
   "metadata": {},
   "source": [
    "## PCA Summary Report ##"
   ]
  },
  {
   "cell_type": "markdown",
   "id": "5772c125-8b56-439b-a9d5-08471a705297",
   "metadata": {},
   "source": [
    "Using Principal Component Analysis (PCA) is to reduce the number of features in the dataset and keep the important information. After checking the explained variance plot, we chose 5 principal components. These components capture most of the variation in the data.\n",
    "\n",
    "PCA helps through:\n",
    "Making the data easier to work with\n",
    "Reducing duplicate (overlapping) information between features\n",
    "Preparing the dataset for better model performance\n",
    "The new set of components will be used in the next step for building prediction models."
   ]
  }
 ],
 "metadata": {
  "kernelspec": {
   "display_name": "Python 3 (ipykernel)",
   "language": "python",
   "name": "python3"
  },
  "language_info": {
   "codemirror_mode": {
    "name": "ipython",
    "version": 3
   },
   "file_extension": ".py",
   "mimetype": "text/x-python",
   "name": "python",
   "nbconvert_exporter": "python",
   "pygments_lexer": "ipython3",
   "version": "3.12.4"
  }
 },
 "nbformat": 4,
 "nbformat_minor": 5
}
